{
 "cells": [
  {
   "cell_type": "markdown",
   "metadata": {},
   "source": [
    "# Tarea\n",
    "\n",
    "Utilizar las funciones de manipulación de datos de la libreria dplyr con una serie de datos climática (usando además la libreria lubridare) de una estación meteorológica de su país."
   ]
  },
  {
   "cell_type": "code",
   "execution_count": 1,
   "metadata": {},
   "outputs": [
    {
     "name": "stderr",
     "output_type": "stream",
     "text": [
      "\n",
      "Attaching package: ‘dplyr’\n",
      "\n",
      "The following objects are masked from ‘package:stats’:\n",
      "\n",
      "    filter, lag\n",
      "\n",
      "The following objects are masked from ‘package:base’:\n",
      "\n",
      "    intersect, setdiff, setequal, union\n",
      "\n",
      "\n",
      "Attaching package: ‘lubridate’\n",
      "\n",
      "The following objects are masked from ‘package:base’:\n",
      "\n",
      "    date, intersect, setdiff, union\n",
      "\n"
     ]
    }
   ],
   "source": [
    "#librerias\n",
    "library(dplyr)\n",
    "library(lubridate)"
   ]
  },
  {
   "cell_type": "markdown",
   "metadata": {},
   "source": [
    "La Ciudad de México cuenta con un sistema de estaciones de monitoreo ubicadas en diferentes alcaldias. La información de las estaciones es pública y almacena una gran cantidad de años de información en la página (http://www.aire.cdmx.gob.mx/)"
   ]
  },
  {
   "cell_type": "code",
   "execution_count": 2,
   "metadata": {},
   "outputs": [
    {
     "name": "stdout",
     "output_type": "stream",
     "text": [
      "                 date MER PED SAG TLA XAL FAC UIZ CUA MON TAH COY ACO CHO IZT\n",
      "1 01/01/1986 01:00:00  NA  NA  NA  NA  NA  NA  NA  NA  NA  NA  NA  NA  NA  NA\n",
      "2 01/01/1986 02:00:00  NA  NA  NA  NA  NA  NA  NA  NA  NA  NA  NA  NA  NA  NA\n",
      "3 01/01/1986 03:00:00  NA  NA  NA  NA  NA  NA  NA  NA  NA  NA  NA  NA  NA  NA\n",
      "4 01/01/1986 04:00:00  NA  NA  NA  NA  NA  NA  NA  NA  NA  NA  NA  NA  NA  NA\n",
      "5 01/01/1986 05:00:00  NA  NA  NA  NA  NA  NA  NA  NA  NA  NA  NA  NA  NA  NA\n",
      "6 01/01/1986 06:00:00  NA  NA  NA  NA  NA  NA  NA  NA  NA  NA  NA  NA  NA  NA\n",
      "  CAM LLA LPR NEZ SJA TLI VIF HGM SFE UAX ATI CUT BJU CCA AJM AJU GAM INN MGH\n",
      "1  NA  NA  NA  NA  NA  NA  NA  NA  NA  NA  NA  NA  NA  NA  NA  NA  NA  NA  NA\n",
      "2  NA  NA  NA  NA  NA  NA  NA  NA  NA  NA  NA  NA  NA  NA  NA  NA  NA  NA  NA\n",
      "3  NA  NA  NA  NA  NA  NA  NA  NA  NA  NA  NA  NA  NA  NA  NA  NA  NA  NA  NA\n",
      "4  NA  NA  NA  NA  NA  NA  NA  NA  NA  NA  NA  NA  NA  NA  NA  NA  NA  NA  NA\n",
      "5  NA  NA  NA  NA  NA  NA  NA  NA  NA  NA  NA  NA  NA  NA  NA  NA  NA  NA  NA\n",
      "6  NA  NA  NA  NA  NA  NA  NA  NA  NA  NA  NA  NA  NA  NA  NA  NA  NA  NA  NA\n",
      "  MPA TPN SUR AZC CES PLA LAG TAC TAX HAN\n",
      "1  NA  NA  NA  NA  NA  NA  NA  NA  NA  NA\n",
      "2  NA  NA  NA  NA  NA  NA  NA  NA  NA  NA\n",
      "3  NA  NA  NA  NA  NA  NA  NA  NA  NA  NA\n",
      "4  NA  NA  NA  NA  NA  NA  NA  NA  NA  NA\n",
      "5  NA  NA  NA  NA  NA  NA  NA  NA  NA  NA\n",
      "6  NA  NA  NA  NA  NA  NA  NA  NA  NA  NA\n"
     ]
    }
   ],
   "source": [
    "#Lectura de los datos\n",
    "df <- read.csv('fCDMX.csv')\n",
    "print(head(df))"
   ]
  },
  {
   "cell_type": "markdown",
   "metadata": {},
   "source": [
    "Al descargar el historico de datos, podemos obtener la información de las 43 estaciones de monitoreo, ordenadas en una matriz donde cada fila es una fecha y hora en particular y cada columna es una estación (la primera columna contiene la información de la fecha y la hora)"
   ]
  },
  {
   "cell_type": "markdown",
   "metadata": {},
   "source": [
    "Uno de los inconvenientes de la serie de datos es la falta de datos en algunos puntos, ya sea por inactividad o por falla del aparato, por ello se pueden encontrar muchos valores NaN. \n",
    "Para poder trabajar con estos datos y no tener datos NaN en todos nuestros cálculos vamos a sustituir los valores nulos por ceros"
   ]
  },
  {
   "cell_type": "code",
   "execution_count": 8,
   "metadata": {},
   "outputs": [
    {
     "name": "stdout",
     "output_type": "stream",
     "text": [
      "                 date MER PED SAG TLA XAL FAC UIZ CUA MON TAH COY ACO CHO IZT\n",
      "1 01/01/1986 01:00:00   0   0   0   0   0   0   0   0   0   0   0   0   0   0\n",
      "2 01/01/1986 02:00:00   0   0   0   0   0   0   0   0   0   0   0   0   0   0\n",
      "3 01/01/1986 03:00:00   0   0   0   0   0   0   0   0   0   0   0   0   0   0\n",
      "4 01/01/1986 04:00:00   0   0   0   0   0   0   0   0   0   0   0   0   0   0\n",
      "5 01/01/1986 05:00:00   0   0   0   0   0   0   0   0   0   0   0   0   0   0\n",
      "6 01/01/1986 06:00:00   0   0   0   0   0   0   0   0   0   0   0   0   0   0\n",
      "  CAM LLA LPR NEZ SJA TLI VIF HGM SFE UAX ATI CUT BJU CCA AJM AJU GAM INN MGH\n",
      "1   0   0   0   0   0   0   0   0   0   0   0   0   0   0   0   0   0   0   0\n",
      "2   0   0   0   0   0   0   0   0   0   0   0   0   0   0   0   0   0   0   0\n",
      "3   0   0   0   0   0   0   0   0   0   0   0   0   0   0   0   0   0   0   0\n",
      "4   0   0   0   0   0   0   0   0   0   0   0   0   0   0   0   0   0   0   0\n",
      "5   0   0   0   0   0   0   0   0   0   0   0   0   0   0   0   0   0   0   0\n",
      "6   0   0   0   0   0   0   0   0   0   0   0   0   0   0   0   0   0   0   0\n",
      "  MPA TPN SUR AZC CES PLA LAG TAC TAX HAN NaN\n",
      "1   0   0   0   0   0   0   0   0   0   0   0\n",
      "2   0   0   0   0   0   0   0   0   0   0   0\n",
      "3   0   0   0   0   0   0   0   0   0   0   0\n",
      "4   0   0   0   0   0   0   0   0   0   0   0\n",
      "5   0   0   0   0   0   0   0   0   0   0   0\n",
      "6   0   0   0   0   0   0   0   0   0   0   0\n"
     ]
    }
   ],
   "source": [
    "df[is.na(df)] <- 0\n",
    "print(head(df))"
   ]
  },
  {
   "cell_type": "code",
   "execution_count": 9,
   "metadata": {},
   "outputs": [
    {
     "name": "stdout",
     "output_type": "stream",
     "text": [
      "[1] \"La clase de cada columna\"\n",
      "[1] \"factor\"\n",
      "[1] \"numeric\"\n",
      "[1] \"numeric\"\n",
      "[1] \"numeric\"\n",
      "[1] \"numeric\"\n",
      "[1] \"numeric\"\n",
      "[1] \"numeric\"\n",
      "[1] \"numeric\"\n",
      "[1] \"numeric\"\n",
      "[1] \"numeric\"\n",
      "[1] \"numeric\"\n",
      "[1] \"numeric\"\n",
      "[1] \"numeric\"\n",
      "[1] \"numeric\"\n",
      "[1] \"numeric\"\n",
      "[1] \"numeric\"\n",
      "[1] \"numeric\"\n",
      "[1] \"numeric\"\n",
      "[1] \"numeric\"\n",
      "[1] \"numeric\"\n",
      "[1] \"numeric\"\n",
      "[1] \"numeric\"\n",
      "[1] \"numeric\"\n",
      "[1] \"numeric\"\n",
      "[1] \"numeric\"\n",
      "[1] \"numeric\"\n",
      "[1] \"numeric\"\n",
      "[1] \"numeric\"\n",
      "[1] \"numeric\"\n",
      "[1] \"numeric\"\n",
      "[1] \"numeric\"\n",
      "[1] \"numeric\"\n",
      "[1] \"numeric\"\n",
      "[1] \"numeric\"\n",
      "[1] \"numeric\"\n",
      "[1] \"numeric\"\n",
      "[1] \"numeric\"\n",
      "[1] \"numeric\"\n",
      "[1] \"numeric\"\n",
      "[1] \"numeric\"\n",
      "[1] \"numeric\"\n",
      "[1] \"numeric\"\n",
      "[1] \"numeric\"\n",
      "[1] \"numeric\"\n",
      "[1] \"numeric\"\n"
     ]
    }
   ],
   "source": [
    "print(\"La clase de cada columna\")\n",
    "for(i in seq_along(df))\n",
    "{\n",
    "    print(class(df[1,i]))\n",
    "}"
   ]
  },
  {
   "cell_type": "markdown",
   "metadata": {},
   "source": [
    "Como esperaríamos cada columna de datos trabaja con valores numéricos (enteros), sin embargo la primera columna, la del tiempo, es de tipo factor, por lo que transformaremos esa columna a un tipo más conveniente"
   ]
  },
  {
   "cell_type": "code",
   "execution_count": 10,
   "metadata": {},
   "outputs": [],
   "source": [
    "df['date'] <- df %>% select(date) %>% mutate(date = dmy_hms(as.character(date)))"
   ]
  },
  {
   "cell_type": "code",
   "execution_count": 13,
   "metadata": {},
   "outputs": [],
   "source": [
    "keys = names(df)"
   ]
  },
  {
   "cell_type": "code",
   "execution_count": null,
   "metadata": {},
   "outputs": [],
   "source": [
    "keys[1]"
   ]
  },
  {
   "cell_type": "code",
   "execution_count": 18,
   "metadata": {},
   "outputs": [
    {
     "name": "stderr",
     "output_type": "stream",
     "text": [
      "`summarise()` ungrouping output (override with `.groups` argument)\n"
     ]
    }
   ],
   "source": [
    "df2 <- df %>% mutate(year = year(date)) %>%  group_by(year) %>% select(year,'MER','PED','SAG') %>%\n",
    "summarize(mean_MER=mean(MER),mean_PED=mean(PED),mean_SAG=mean(SAG))"
   ]
  },
  {
   "cell_type": "code",
   "execution_count": 28,
   "metadata": {},
   "outputs": [
    {
     "name": "stdout",
     "output_type": "stream",
     "text": [
      "Valores maximos y minimos de MER"
     ]
    },
    {
     "data": {
      "text/html": [
       "43.5245901639344"
      ],
      "text/latex": [
       "43.5245901639344"
      ],
      "text/markdown": [
       "43.5245901639344"
      ],
      "text/plain": [
       "[1] 43.52459"
      ]
     },
     "metadata": {},
     "output_type": "display_data"
    },
    {
     "data": {
      "text/html": [
       "4.48281767325037"
      ],
      "text/latex": [
       "4.48281767325037"
      ],
      "text/markdown": [
       "4.48281767325037"
      ],
      "text/plain": [
       "[1] 4.482818"
      ]
     },
     "metadata": {},
     "output_type": "display_data"
    },
    {
     "name": "stdout",
     "output_type": "stream",
     "text": [
      "Valores maximos y minimos de PED"
     ]
    },
    {
     "data": {
      "text/html": [
       "56.3536529680365"
      ],
      "text/latex": [
       "56.3536529680365"
      ],
      "text/markdown": [
       "56.3536529680365"
      ],
      "text/plain": [
       "[1] 56.35365"
      ]
     },
     "metadata": {},
     "output_type": "display_data"
    },
    {
     "data": {
      "text/html": [
       "15.1578947368421"
      ],
      "text/latex": [
       "15.1578947368421"
      ],
      "text/markdown": [
       "15.1578947368421"
      ],
      "text/plain": [
       "[1] 15.15789"
      ]
     },
     "metadata": {},
     "output_type": "display_data"
    },
    {
     "name": "stdout",
     "output_type": "stream",
     "text": [
      "Valores maximos y minimos de SAG"
     ]
    },
    {
     "data": {
      "text/html": [
       "40.922602739726"
      ],
      "text/latex": [
       "40.922602739726"
      ],
      "text/markdown": [
       "40.922602739726"
      ],
      "text/plain": [
       "[1] 40.9226"
      ]
     },
     "metadata": {},
     "output_type": "display_data"
    },
    {
     "data": {
      "text/html": [
       "0"
      ],
      "text/latex": [
       "0"
      ],
      "text/markdown": [
       "0"
      ],
      "text/plain": [
       "[1] 0"
      ]
     },
     "metadata": {},
     "output_type": "display_data"
    }
   ],
   "source": [
    "cat(\"Valores maximos y minimos de MER\")\n",
    "max(df2['mean_MER'])\n",
    "min(df2['mean_MER'])\n",
    "cat(\"Valores maximos y minimos de PED\")\n",
    "max(df2['mean_PED'])\n",
    "min(df2['mean_PED'])\n",
    "cat(\"Valores maximos y minimos de SAG\")\n",
    "max(df2['mean_SAG'])\n",
    "min(df2['mean_SAG'])"
   ]
  },
  {
   "cell_type": "code",
   "execution_count": null,
   "metadata": {},
   "outputs": [],
   "source": []
  }
 ],
 "metadata": {
  "kernelspec": {
   "display_name": "R",
   "language": "R",
   "name": "ir"
  },
  "language_info": {
   "codemirror_mode": "r",
   "file_extension": ".r",
   "mimetype": "text/x-r-source",
   "name": "R",
   "pygments_lexer": "r",
   "version": "3.6.1"
  }
 },
 "nbformat": 4,
 "nbformat_minor": 4
}
